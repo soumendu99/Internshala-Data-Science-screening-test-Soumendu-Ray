{
 "cells": [
  {
   "cell_type": "code",
   "execution_count": 1,
   "id": "ca9b419d",
   "metadata": {},
   "outputs": [],
   "source": [
    "import pandas as pd\n",
    "import numpy as np\n",
    "from sklearn import metrics"
   ]
  },
  {
   "cell_type": "code",
   "execution_count": 93,
   "id": "a73c37b7",
   "metadata": {},
   "outputs": [
    {
     "name": "stdout",
     "output_type": "stream",
     "text": [
      "Collecting xgboost\n",
      "  Downloading xgboost-1.7.1-py3-none-win_amd64.whl (89.1 MB)\n",
      "Requirement already satisfied: numpy in c:\\users\\hp\\anaconda3\\lib\\site-packages (from xgboost) (1.21.5)\n",
      "Requirement already satisfied: scipy in c:\\users\\hp\\anaconda3\\lib\\site-packages (from xgboost) (1.7.3)\n",
      "Installing collected packages: xgboost\n",
      "Successfully installed xgboost-1.7.1\n"
     ]
    }
   ],
   "source": [
    "!pip install xgboost"
   ]
  },
  {
   "cell_type": "code",
   "execution_count": 94,
   "id": "d5d8c6d3",
   "metadata": {},
   "outputs": [],
   "source": [
    "from sklearn.preprocessing import LabelEncoder,StandardScaler"
   ]
  },
  {
   "cell_type": "code",
   "execution_count": 3,
   "id": "9004a5e2",
   "metadata": {},
   "outputs": [
    {
     "data": {
      "text/html": [
       "<div>\n",
       "<style scoped>\n",
       "    .dataframe tbody tr th:only-of-type {\n",
       "        vertical-align: middle;\n",
       "    }\n",
       "\n",
       "    .dataframe tbody tr th {\n",
       "        vertical-align: top;\n",
       "    }\n",
       "\n",
       "    .dataframe thead th {\n",
       "        text-align: right;\n",
       "    }\n",
       "</style>\n",
       "<table border=\"1\" class=\"dataframe\">\n",
       "  <thead>\n",
       "    <tr style=\"text-align: right;\">\n",
       "      <th></th>\n",
       "      <th>sepal_length</th>\n",
       "      <th>sepal_width</th>\n",
       "      <th>petal_length</th>\n",
       "      <th>petal_width</th>\n",
       "      <th>species</th>\n",
       "    </tr>\n",
       "  </thead>\n",
       "  <tbody>\n",
       "    <tr>\n",
       "      <th>0</th>\n",
       "      <td>5.1</td>\n",
       "      <td>3.5</td>\n",
       "      <td>1.4</td>\n",
       "      <td>0.2</td>\n",
       "      <td>Iris-setosa</td>\n",
       "    </tr>\n",
       "    <tr>\n",
       "      <th>1</th>\n",
       "      <td>4.9</td>\n",
       "      <td>3.0</td>\n",
       "      <td>1.4</td>\n",
       "      <td>0.2</td>\n",
       "      <td>Iris-setosa</td>\n",
       "    </tr>\n",
       "    <tr>\n",
       "      <th>2</th>\n",
       "      <td>4.7</td>\n",
       "      <td>3.2</td>\n",
       "      <td>1.3</td>\n",
       "      <td>0.2</td>\n",
       "      <td>Iris-setosa</td>\n",
       "    </tr>\n",
       "    <tr>\n",
       "      <th>3</th>\n",
       "      <td>4.6</td>\n",
       "      <td>3.1</td>\n",
       "      <td>1.5</td>\n",
       "      <td>0.2</td>\n",
       "      <td>Iris-setosa</td>\n",
       "    </tr>\n",
       "    <tr>\n",
       "      <th>4</th>\n",
       "      <td>5.0</td>\n",
       "      <td>3.6</td>\n",
       "      <td>1.4</td>\n",
       "      <td>0.2</td>\n",
       "      <td>Iris-setosa</td>\n",
       "    </tr>\n",
       "    <tr>\n",
       "      <th>5</th>\n",
       "      <td>5.4</td>\n",
       "      <td>3.9</td>\n",
       "      <td>1.7</td>\n",
       "      <td>0.4</td>\n",
       "      <td>Iris-setosa</td>\n",
       "    </tr>\n",
       "    <tr>\n",
       "      <th>6</th>\n",
       "      <td>4.6</td>\n",
       "      <td>3.4</td>\n",
       "      <td>1.4</td>\n",
       "      <td>0.3</td>\n",
       "      <td>Iris-setosa</td>\n",
       "    </tr>\n",
       "    <tr>\n",
       "      <th>7</th>\n",
       "      <td>5.0</td>\n",
       "      <td>3.4</td>\n",
       "      <td>1.5</td>\n",
       "      <td>0.2</td>\n",
       "      <td>Iris-setosa</td>\n",
       "    </tr>\n",
       "    <tr>\n",
       "      <th>8</th>\n",
       "      <td>4.4</td>\n",
       "      <td>2.9</td>\n",
       "      <td>1.4</td>\n",
       "      <td>0.2</td>\n",
       "      <td>Iris-setosa</td>\n",
       "    </tr>\n",
       "    <tr>\n",
       "      <th>9</th>\n",
       "      <td>4.9</td>\n",
       "      <td>3.1</td>\n",
       "      <td>1.5</td>\n",
       "      <td>0.1</td>\n",
       "      <td>Iris-setosa</td>\n",
       "    </tr>\n",
       "  </tbody>\n",
       "</table>\n",
       "</div>"
      ],
      "text/plain": [
       "   sepal_length  sepal_width  petal_length  petal_width      species\n",
       "0           5.1          3.5           1.4          0.2  Iris-setosa\n",
       "1           4.9          3.0           1.4          0.2  Iris-setosa\n",
       "2           4.7          3.2           1.3          0.2  Iris-setosa\n",
       "3           4.6          3.1           1.5          0.2  Iris-setosa\n",
       "4           5.0          3.6           1.4          0.2  Iris-setosa\n",
       "5           5.4          3.9           1.7          0.4  Iris-setosa\n",
       "6           4.6          3.4           1.4          0.3  Iris-setosa\n",
       "7           5.0          3.4           1.5          0.2  Iris-setosa\n",
       "8           4.4          2.9           1.4          0.2  Iris-setosa\n",
       "9           4.9          3.1           1.5          0.1  Iris-setosa"
      ]
     },
     "execution_count": 3,
     "metadata": {},
     "output_type": "execute_result"
    }
   ],
   "source": [
    "file=pd.read_csv('iris.csv')\n",
    "file.head(10)"
   ]
  },
  {
   "cell_type": "code",
   "execution_count": 4,
   "id": "bad0c14d",
   "metadata": {},
   "outputs": [],
   "source": [
    "x=file.iloc[:,:-1]\n",
    "y=file.iloc[:,-1]"
   ]
  },
  {
   "cell_type": "code",
   "execution_count": 5,
   "id": "e3e6aea8",
   "metadata": {},
   "outputs": [],
   "source": [
    "from sklearn.model_selection import train_test_split"
   ]
  },
  {
   "cell_type": "code",
   "execution_count": 6,
   "id": "ea2f169a",
   "metadata": {},
   "outputs": [],
   "source": [
    "le=LabelEncoder()\n",
    "ss=StandardScaler()"
   ]
  },
  {
   "cell_type": "code",
   "execution_count": 7,
   "id": "3a1d63b5",
   "metadata": {},
   "outputs": [
    {
     "data": {
      "text/plain": [
       "array([0, 0, 0, 0, 0, 0, 0, 0, 0, 0, 0, 0, 0, 0, 0, 0, 0, 0, 0, 0, 0, 0,\n",
       "       0, 0, 0, 0, 0, 0, 0, 0, 0, 0, 0, 0, 0, 0, 0, 0, 0, 0, 0, 0, 0, 0,\n",
       "       0, 0, 0, 0, 0, 0, 1, 1, 1, 1, 1, 1, 1, 1, 1, 1, 1, 1, 1, 1, 1, 1,\n",
       "       1, 1, 1, 1, 1, 1, 1, 1, 1, 1, 1, 1, 1, 1, 1, 1, 1, 1, 1, 1, 1, 1,\n",
       "       1, 1, 1, 1, 1, 1, 1, 1, 1, 1, 1, 1, 2, 2, 2, 2, 2, 2, 2, 2, 2, 2,\n",
       "       2, 2, 2, 2, 2, 2, 2, 2, 2, 2, 2, 2, 2, 2, 2, 2, 2, 2, 2, 2, 2, 2,\n",
       "       2, 2, 2, 2, 2, 2, 2, 2, 2, 2, 2, 2, 2, 2, 2, 2, 2, 2])"
      ]
     },
     "execution_count": 7,
     "metadata": {},
     "output_type": "execute_result"
    }
   ],
   "source": [
    "y=le.fit_transform(y)\n",
    "y"
   ]
  },
  {
   "cell_type": "code",
   "execution_count": 8,
   "id": "86fd6b90",
   "metadata": {},
   "outputs": [],
   "source": [
    "xtrain,xtest,ytrain,ytest=train_test_split(x,y,test_size=0.3,random_state=0)"
   ]
  },
  {
   "cell_type": "code",
   "execution_count": 9,
   "id": "f43020e2",
   "metadata": {},
   "outputs": [],
   "source": [
    "xtrain=ss.fit_transform(xtrain)\n",
    "xtest=ss.transform(xtest)"
   ]
  },
  {
   "cell_type": "code",
   "execution_count": 10,
   "id": "1b6a6c3b",
   "metadata": {},
   "outputs": [],
   "source": [
    "#linear regression"
   ]
  },
  {
   "cell_type": "code",
   "execution_count": 11,
   "id": "b319ad3f",
   "metadata": {},
   "outputs": [],
   "source": [
    "from sklearn.linear_model import LinearRegression"
   ]
  },
  {
   "cell_type": "code",
   "execution_count": 12,
   "id": "e5f28ca8",
   "metadata": {},
   "outputs": [
    {
     "data": {
      "text/plain": [
       "array([ 2.07863376,  0.96669898, -0.15934059,  1.82209546, -0.03128655,\n",
       "        2.29167009, -0.03326614,  1.30556458,  1.26630691,  1.10590682,\n",
       "        1.61291114,  1.29882172,  1.24583575,  1.31726102,  1.35560867,\n",
       "       -0.06446882,  1.37252277,  1.26780932,  0.03810685, -0.05301757,\n",
       "        1.83345137,  1.43872911,  0.11461187,  0.05223725,  1.59172014,\n",
       "       -0.1067769 ,  0.16770375,  1.17090695,  0.93927314,  0.10832465,\n",
       "        1.74781133,  1.47276913, -0.06720024,  1.6329574 ,  2.00469015,\n",
       "        1.28881924, -0.04616879,  1.59988104,  1.30377528,  1.10489089,\n",
       "        1.84907488, -0.03240839,  1.82996938,  0.21809757, -0.1049876 ])"
      ]
     },
     "execution_count": 12,
     "metadata": {},
     "output_type": "execute_result"
    }
   ],
   "source": [
    "lr=LinearRegression()\n",
    "lr_fit=lr.fit(xtrain,ytrain)\n",
    "lr_predict=lr_fit.predict(xtest)\n",
    "lr_predict"
   ]
  },
  {
   "cell_type": "code",
   "execution_count": 13,
   "id": "1f83fc31",
   "metadata": {},
   "outputs": [
    {
     "data": {
      "text/plain": [
       "0.8999447180621176"
      ]
     },
     "execution_count": 13,
     "metadata": {},
     "output_type": "execute_result"
    }
   ],
   "source": [
    "metrics.r2_score(ytest,lr_predict)"
   ]
  },
  {
   "cell_type": "code",
   "execution_count": 64,
   "id": "fad7acb5",
   "metadata": {},
   "outputs": [
    {
     "name": "stdout",
     "output_type": "stream",
     "text": [
      "intercept 1.0476190476190477\n",
      "coefficient [-0.1485306  -0.00823029  0.50223288  0.43413614]\n"
     ]
    }
   ],
   "source": [
    "print('intercept',lr_fit.intercept_)\n",
    "print('coefficient',lr_fit.coef_)"
   ]
  },
  {
   "cell_type": "code",
   "execution_count": 14,
   "id": "3c390d60",
   "metadata": {},
   "outputs": [],
   "source": [
    "#logistic regression"
   ]
  },
  {
   "cell_type": "code",
   "execution_count": 15,
   "id": "7c8f115d",
   "metadata": {},
   "outputs": [],
   "source": [
    "from sklearn.linear_model import LogisticRegression"
   ]
  },
  {
   "cell_type": "code",
   "execution_count": 16,
   "id": "bccf0fdd",
   "metadata": {},
   "outputs": [
    {
     "data": {
      "text/plain": [
       "array([2, 1, 0, 2, 0, 2, 0, 1, 1, 1, 2, 1, 1, 1, 1, 0, 1, 1, 0, 0, 2, 1,\n",
       "       0, 0, 2, 0, 0, 1, 1, 0, 2, 1, 0, 2, 2, 1, 0, 2, 1, 1, 2, 0, 2, 0,\n",
       "       0])"
      ]
     },
     "execution_count": 16,
     "metadata": {},
     "output_type": "execute_result"
    }
   ],
   "source": [
    "lgr=LogisticRegression()\n",
    "lgr_fit=lgr.fit(xtrain,ytrain)\n",
    "lgr_predict=lgr_fit.predict(xtest)\n",
    "lgr_predict"
   ]
  },
  {
   "cell_type": "code",
   "execution_count": 17,
   "id": "5d979cf5",
   "metadata": {},
   "outputs": [
    {
     "name": "stdout",
     "output_type": "stream",
     "text": [
      "f1_score: [1.         0.97142857 0.95652174]\n",
      "accuracy_score: 0.9777777777777777\n",
      "confusion_matrix: [[16  0  0]\n",
      " [ 0 17  1]\n",
      " [ 0  0 11]]\n"
     ]
    }
   ],
   "source": [
    "print('f1_score:',metrics.f1_score(ytest,lgr_predict,average=None))\n",
    "print('accuracy_score:',metrics.accuracy_score(ytest,lgr_predict))\n",
    "print('confusion_matrix:',metrics.confusion_matrix(ytest,lgr_predict))"
   ]
  },
  {
   "cell_type": "code",
   "execution_count": 18,
   "id": "798459c9",
   "metadata": {},
   "outputs": [],
   "source": [
    "#Decision Tree"
   ]
  },
  {
   "cell_type": "code",
   "execution_count": 19,
   "id": "8722f9ec",
   "metadata": {},
   "outputs": [],
   "source": [
    "from sklearn.tree import DecisionTreeClassifier"
   ]
  },
  {
   "cell_type": "code",
   "execution_count": 20,
   "id": "051b7188",
   "metadata": {},
   "outputs": [
    {
     "data": {
      "text/plain": [
       "array([2, 1, 0, 2, 0, 2, 0, 1, 1, 1, 2, 1, 1, 1, 1, 0, 1, 1, 0, 0, 2, 1,\n",
       "       0, 0, 2, 0, 0, 1, 1, 0, 2, 1, 0, 2, 2, 1, 0, 2, 1, 1, 2, 0, 2, 0,\n",
       "       0])"
      ]
     },
     "execution_count": 20,
     "metadata": {},
     "output_type": "execute_result"
    }
   ],
   "source": [
    "dt=DecisionTreeClassifier(criterion='entropy')\n",
    "dt_fit=dt.fit(xtrain,ytrain)\n",
    "dt_predict=dt_fit.predict(xtest)\n",
    "dt_predict"
   ]
  },
  {
   "cell_type": "code",
   "execution_count": 21,
   "id": "7aa1e114",
   "metadata": {},
   "outputs": [
    {
     "name": "stdout",
     "output_type": "stream",
     "text": [
      "f1_score: [1.         0.97142857 0.95652174]\n",
      "accuracy_score: 0.9777777777777777\n",
      "confusion_matrix: [[16  0  0]\n",
      " [ 0 17  1]\n",
      " [ 0  0 11]]\n"
     ]
    }
   ],
   "source": [
    "print('f1_score:',metrics.f1_score(ytest,dt_predict,average=None))\n",
    "print('accuracy_score:',metrics.accuracy_score(ytest,dt_predict))\n",
    "print('confusion_matrix:',metrics.confusion_matrix(ytest,dt_predict))"
   ]
  },
  {
   "cell_type": "code",
   "execution_count": 22,
   "id": "1c998152",
   "metadata": {},
   "outputs": [],
   "source": [
    "from sklearn.tree import export_graphviz\n",
    "import graphviz"
   ]
  },
  {
   "cell_type": "code",
   "execution_count": 23,
   "id": "d17fd5ba",
   "metadata": {},
   "outputs": [
    {
     "data": {
      "image/svg+xml": [
       "<?xml version=\"1.0\" encoding=\"UTF-8\" standalone=\"no\"?>\n",
       "<!DOCTYPE svg PUBLIC \"-//W3C//DTD SVG 1.1//EN\"\n",
       " \"http://www.w3.org/Graphics/SVG/1.1/DTD/svg11.dtd\">\n",
       "<!-- Generated by graphviz version 2.50.0 (0)\n",
       " -->\n",
       "<!-- Title: Tree Pages: 1 -->\n",
       "<svg width=\"586pt\" height=\"477pt\"\n",
       " viewBox=\"0.00 0.00 586.00 477.00\" xmlns=\"http://www.w3.org/2000/svg\" xmlns:xlink=\"http://www.w3.org/1999/xlink\">\n",
       "<g id=\"graph0\" class=\"graph\" transform=\"scale(1 1) rotate(0) translate(4 473)\">\n",
       "<title>Tree</title>\n",
       "<polygon fill=\"white\" stroke=\"transparent\" points=\"-4,4 -4,-473 582,-473 582,4 -4,4\"/>\n",
       "<!-- 0 -->\n",
       "<g id=\"node1\" class=\"node\">\n",
       "<title>0</title>\n",
       "<polygon fill=\"none\" stroke=\"black\" points=\"287,-469 140,-469 140,-401 287,-401 287,-469\"/>\n",
       "<text text-anchor=\"middle\" x=\"213.5\" y=\"-453.8\" font-family=\"Helvetica,sans-Serif\" font-size=\"14.00\">petal_width &lt;= &#45;0.613</text>\n",
       "<text text-anchor=\"middle\" x=\"213.5\" y=\"-438.8\" font-family=\"Helvetica,sans-Serif\" font-size=\"14.00\">entropy = 1.58</text>\n",
       "<text text-anchor=\"middle\" x=\"213.5\" y=\"-423.8\" font-family=\"Helvetica,sans-Serif\" font-size=\"14.00\">samples = 105</text>\n",
       "<text text-anchor=\"middle\" x=\"213.5\" y=\"-408.8\" font-family=\"Helvetica,sans-Serif\" font-size=\"14.00\">value = [34, 32, 39]</text>\n",
       "</g>\n",
       "<!-- 1 -->\n",
       "<g id=\"node2\" class=\"node\">\n",
       "<title>1</title>\n",
       "<polygon fill=\"none\" stroke=\"black\" points=\"197,-357.5 80,-357.5 80,-304.5 197,-304.5 197,-357.5\"/>\n",
       "<text text-anchor=\"middle\" x=\"138.5\" y=\"-342.3\" font-family=\"Helvetica,sans-Serif\" font-size=\"14.00\">entropy = 0.0</text>\n",
       "<text text-anchor=\"middle\" x=\"138.5\" y=\"-327.3\" font-family=\"Helvetica,sans-Serif\" font-size=\"14.00\">samples = 34</text>\n",
       "<text text-anchor=\"middle\" x=\"138.5\" y=\"-312.3\" font-family=\"Helvetica,sans-Serif\" font-size=\"14.00\">value = [34, 0, 0]</text>\n",
       "</g>\n",
       "<!-- 0&#45;&gt;1 -->\n",
       "<g id=\"edge1\" class=\"edge\">\n",
       "<title>0&#45;&gt;1</title>\n",
       "<path fill=\"none\" stroke=\"black\" d=\"M189.15,-400.88C180.9,-389.67 171.68,-377.13 163.39,-365.85\"/>\n",
       "<polygon fill=\"black\" stroke=\"black\" points=\"166.01,-363.5 157.26,-357.52 160.37,-367.65 166.01,-363.5\"/>\n",
       "<text text-anchor=\"middle\" x=\"153.49\" y=\"-378.53\" font-family=\"Helvetica,sans-Serif\" font-size=\"14.00\">True</text>\n",
       "</g>\n",
       "<!-- 2 -->\n",
       "<g id=\"node3\" class=\"node\">\n",
       "<title>2</title>\n",
       "<polygon fill=\"none\" stroke=\"black\" points=\"363.5,-365 215.5,-365 215.5,-297 363.5,-297 363.5,-365\"/>\n",
       "<text text-anchor=\"middle\" x=\"289.5\" y=\"-349.8\" font-family=\"Helvetica,sans-Serif\" font-size=\"14.00\">petal_length &lt;= 0.624</text>\n",
       "<text text-anchor=\"middle\" x=\"289.5\" y=\"-334.8\" font-family=\"Helvetica,sans-Serif\" font-size=\"14.00\">entropy = 0.993</text>\n",
       "<text text-anchor=\"middle\" x=\"289.5\" y=\"-319.8\" font-family=\"Helvetica,sans-Serif\" font-size=\"14.00\">samples = 71</text>\n",
       "<text text-anchor=\"middle\" x=\"289.5\" y=\"-304.8\" font-family=\"Helvetica,sans-Serif\" font-size=\"14.00\">value = [0, 32, 39]</text>\n",
       "</g>\n",
       "<!-- 0&#45;&gt;2 -->\n",
       "<g id=\"edge2\" class=\"edge\">\n",
       "<title>0&#45;&gt;2</title>\n",
       "<path fill=\"none\" stroke=\"black\" d=\"M238.18,-400.88C244.68,-392.15 251.78,-382.62 258.57,-373.51\"/>\n",
       "<polygon fill=\"black\" stroke=\"black\" points=\"261.52,-375.41 264.69,-365.3 255.91,-371.23 261.52,-375.41\"/>\n",
       "<text text-anchor=\"middle\" x=\"268.3\" y=\"-386.34\" font-family=\"Helvetica,sans-Serif\" font-size=\"14.00\">False</text>\n",
       "</g>\n",
       "<!-- 3 -->\n",
       "<g id=\"node4\" class=\"node\">\n",
       "<title>3</title>\n",
       "<polygon fill=\"none\" stroke=\"black\" points=\"280,-261 137,-261 137,-193 280,-193 280,-261\"/>\n",
       "<text text-anchor=\"middle\" x=\"208.5\" y=\"-245.8\" font-family=\"Helvetica,sans-Serif\" font-size=\"14.00\">petal_width &lt;= 0.544</text>\n",
       "<text text-anchor=\"middle\" x=\"208.5\" y=\"-230.8\" font-family=\"Helvetica,sans-Serif\" font-size=\"14.00\">entropy = 0.431</text>\n",
       "<text text-anchor=\"middle\" x=\"208.5\" y=\"-215.8\" font-family=\"Helvetica,sans-Serif\" font-size=\"14.00\">samples = 34</text>\n",
       "<text text-anchor=\"middle\" x=\"208.5\" y=\"-200.8\" font-family=\"Helvetica,sans-Serif\" font-size=\"14.00\">value = [0, 31, 3]</text>\n",
       "</g>\n",
       "<!-- 2&#45;&gt;3 -->\n",
       "<g id=\"edge3\" class=\"edge\">\n",
       "<title>2&#45;&gt;3</title>\n",
       "<path fill=\"none\" stroke=\"black\" d=\"M263.2,-296.88C256.2,-288.07 248.55,-278.43 241.25,-269.24\"/>\n",
       "<polygon fill=\"black\" stroke=\"black\" points=\"243.9,-266.95 234.94,-261.3 238.42,-271.31 243.9,-266.95\"/>\n",
       "</g>\n",
       "<!-- 8 -->\n",
       "<g id=\"node9\" class=\"node\">\n",
       "<title>8</title>\n",
       "<polygon fill=\"none\" stroke=\"black\" points=\"443,-261 300,-261 300,-193 443,-193 443,-261\"/>\n",
       "<text text-anchor=\"middle\" x=\"371.5\" y=\"-245.8\" font-family=\"Helvetica,sans-Serif\" font-size=\"14.00\">petal_width &lt;= 0.673</text>\n",
       "<text text-anchor=\"middle\" x=\"371.5\" y=\"-230.8\" font-family=\"Helvetica,sans-Serif\" font-size=\"14.00\">entropy = 0.179</text>\n",
       "<text text-anchor=\"middle\" x=\"371.5\" y=\"-215.8\" font-family=\"Helvetica,sans-Serif\" font-size=\"14.00\">samples = 37</text>\n",
       "<text text-anchor=\"middle\" x=\"371.5\" y=\"-200.8\" font-family=\"Helvetica,sans-Serif\" font-size=\"14.00\">value = [0, 1, 36]</text>\n",
       "</g>\n",
       "<!-- 2&#45;&gt;8 -->\n",
       "<g id=\"edge8\" class=\"edge\">\n",
       "<title>2&#45;&gt;8</title>\n",
       "<path fill=\"none\" stroke=\"black\" d=\"M316.12,-296.88C323.21,-288.07 330.96,-278.43 338.35,-269.24\"/>\n",
       "<polygon fill=\"black\" stroke=\"black\" points=\"341.19,-271.29 344.73,-261.3 335.74,-266.9 341.19,-271.29\"/>\n",
       "</g>\n",
       "<!-- 4 -->\n",
       "<g id=\"node5\" class=\"node\">\n",
       "<title>4</title>\n",
       "<polygon fill=\"none\" stroke=\"black\" points=\"117,-149.5 0,-149.5 0,-96.5 117,-96.5 117,-149.5\"/>\n",
       "<text text-anchor=\"middle\" x=\"58.5\" y=\"-134.3\" font-family=\"Helvetica,sans-Serif\" font-size=\"14.00\">entropy = 0.0</text>\n",
       "<text text-anchor=\"middle\" x=\"58.5\" y=\"-119.3\" font-family=\"Helvetica,sans-Serif\" font-size=\"14.00\">samples = 30</text>\n",
       "<text text-anchor=\"middle\" x=\"58.5\" y=\"-104.3\" font-family=\"Helvetica,sans-Serif\" font-size=\"14.00\">value = [0, 30, 0]</text>\n",
       "</g>\n",
       "<!-- 3&#45;&gt;4 -->\n",
       "<g id=\"edge4\" class=\"edge\">\n",
       "<title>3&#45;&gt;4</title>\n",
       "<path fill=\"none\" stroke=\"black\" d=\"M159.8,-192.88C142.01,-180.79 121.96,-167.15 104.42,-155.22\"/>\n",
       "<polygon fill=\"black\" stroke=\"black\" points=\"106.27,-152.25 96.03,-149.52 102.33,-158.04 106.27,-152.25\"/>\n",
       "</g>\n",
       "<!-- 5 -->\n",
       "<g id=\"node6\" class=\"node\">\n",
       "<title>5</title>\n",
       "<polygon fill=\"none\" stroke=\"black\" points=\"281.5,-157 135.5,-157 135.5,-89 281.5,-89 281.5,-157\"/>\n",
       "<text text-anchor=\"middle\" x=\"208.5\" y=\"-141.8\" font-family=\"Helvetica,sans-Serif\" font-size=\"14.00\">sepal_width &lt;= 0.126</text>\n",
       "<text text-anchor=\"middle\" x=\"208.5\" y=\"-126.8\" font-family=\"Helvetica,sans-Serif\" font-size=\"14.00\">entropy = 0.811</text>\n",
       "<text text-anchor=\"middle\" x=\"208.5\" y=\"-111.8\" font-family=\"Helvetica,sans-Serif\" font-size=\"14.00\">samples = 4</text>\n",
       "<text text-anchor=\"middle\" x=\"208.5\" y=\"-96.8\" font-family=\"Helvetica,sans-Serif\" font-size=\"14.00\">value = [0, 1, 3]</text>\n",
       "</g>\n",
       "<!-- 3&#45;&gt;5 -->\n",
       "<g id=\"edge5\" class=\"edge\">\n",
       "<title>3&#45;&gt;5</title>\n",
       "<path fill=\"none\" stroke=\"black\" d=\"M208.5,-192.88C208.5,-184.78 208.5,-175.98 208.5,-167.47\"/>\n",
       "<polygon fill=\"black\" stroke=\"black\" points=\"212,-167.3 208.5,-157.3 205,-167.3 212,-167.3\"/>\n",
       "</g>\n",
       "<!-- 6 -->\n",
       "<g id=\"node7\" class=\"node\">\n",
       "<title>6</title>\n",
       "<polygon fill=\"none\" stroke=\"black\" points=\"144.5,-53 34.5,-53 34.5,0 144.5,0 144.5,-53\"/>\n",
       "<text text-anchor=\"middle\" x=\"89.5\" y=\"-37.8\" font-family=\"Helvetica,sans-Serif\" font-size=\"14.00\">entropy = 0.0</text>\n",
       "<text text-anchor=\"middle\" x=\"89.5\" y=\"-22.8\" font-family=\"Helvetica,sans-Serif\" font-size=\"14.00\">samples = 3</text>\n",
       "<text text-anchor=\"middle\" x=\"89.5\" y=\"-7.8\" font-family=\"Helvetica,sans-Serif\" font-size=\"14.00\">value = [0, 0, 3]</text>\n",
       "</g>\n",
       "<!-- 5&#45;&gt;6 -->\n",
       "<g id=\"edge6\" class=\"edge\">\n",
       "<title>5&#45;&gt;6</title>\n",
       "<path fill=\"none\" stroke=\"black\" d=\"M166.88,-88.95C154.9,-79.43 141.85,-69.07 129.94,-59.62\"/>\n",
       "<polygon fill=\"black\" stroke=\"black\" points=\"131.92,-56.71 121.91,-53.24 127.56,-62.2 131.92,-56.71\"/>\n",
       "</g>\n",
       "<!-- 7 -->\n",
       "<g id=\"node8\" class=\"node\">\n",
       "<title>7</title>\n",
       "<polygon fill=\"none\" stroke=\"black\" points=\"272.5,-53 162.5,-53 162.5,0 272.5,0 272.5,-53\"/>\n",
       "<text text-anchor=\"middle\" x=\"217.5\" y=\"-37.8\" font-family=\"Helvetica,sans-Serif\" font-size=\"14.00\">entropy = 0.0</text>\n",
       "<text text-anchor=\"middle\" x=\"217.5\" y=\"-22.8\" font-family=\"Helvetica,sans-Serif\" font-size=\"14.00\">samples = 1</text>\n",
       "<text text-anchor=\"middle\" x=\"217.5\" y=\"-7.8\" font-family=\"Helvetica,sans-Serif\" font-size=\"14.00\">value = [0, 1, 0]</text>\n",
       "</g>\n",
       "<!-- 5&#45;&gt;7 -->\n",
       "<g id=\"edge7\" class=\"edge\">\n",
       "<title>5&#45;&gt;7</title>\n",
       "<path fill=\"none\" stroke=\"black\" d=\"M211.65,-88.95C212.44,-80.62 213.3,-71.65 214.1,-63.2\"/>\n",
       "<polygon fill=\"black\" stroke=\"black\" points=\"217.58,-63.52 215.05,-53.24 210.62,-62.86 217.58,-63.52\"/>\n",
       "</g>\n",
       "<!-- 9 -->\n",
       "<g id=\"node10\" class=\"node\">\n",
       "<title>9</title>\n",
       "<polygon fill=\"none\" stroke=\"black\" points=\"443,-157 300,-157 300,-89 443,-89 443,-157\"/>\n",
       "<text text-anchor=\"middle\" x=\"371.5\" y=\"-141.8\" font-family=\"Helvetica,sans-Serif\" font-size=\"14.00\">petal_width &lt;= 0.544</text>\n",
       "<text text-anchor=\"middle\" x=\"371.5\" y=\"-126.8\" font-family=\"Helvetica,sans-Serif\" font-size=\"14.00\">entropy = 0.811</text>\n",
       "<text text-anchor=\"middle\" x=\"371.5\" y=\"-111.8\" font-family=\"Helvetica,sans-Serif\" font-size=\"14.00\">samples = 4</text>\n",
       "<text text-anchor=\"middle\" x=\"371.5\" y=\"-96.8\" font-family=\"Helvetica,sans-Serif\" font-size=\"14.00\">value = [0, 1, 3]</text>\n",
       "</g>\n",
       "<!-- 8&#45;&gt;9 -->\n",
       "<g id=\"edge9\" class=\"edge\">\n",
       "<title>8&#45;&gt;9</title>\n",
       "<path fill=\"none\" stroke=\"black\" d=\"M371.5,-192.88C371.5,-184.78 371.5,-175.98 371.5,-167.47\"/>\n",
       "<polygon fill=\"black\" stroke=\"black\" points=\"375,-167.3 371.5,-157.3 368,-167.3 375,-167.3\"/>\n",
       "</g>\n",
       "<!-- 12 -->\n",
       "<g id=\"node13\" class=\"node\">\n",
       "<title>12</title>\n",
       "<polygon fill=\"none\" stroke=\"black\" points=\"578,-149.5 461,-149.5 461,-96.5 578,-96.5 578,-149.5\"/>\n",
       "<text text-anchor=\"middle\" x=\"519.5\" y=\"-134.3\" font-family=\"Helvetica,sans-Serif\" font-size=\"14.00\">entropy = 0.0</text>\n",
       "<text text-anchor=\"middle\" x=\"519.5\" y=\"-119.3\" font-family=\"Helvetica,sans-Serif\" font-size=\"14.00\">samples = 33</text>\n",
       "<text text-anchor=\"middle\" x=\"519.5\" y=\"-104.3\" font-family=\"Helvetica,sans-Serif\" font-size=\"14.00\">value = [0, 0, 33]</text>\n",
       "</g>\n",
       "<!-- 8&#45;&gt;12 -->\n",
       "<g id=\"edge12\" class=\"edge\">\n",
       "<title>8&#45;&gt;12</title>\n",
       "<path fill=\"none\" stroke=\"black\" d=\"M419.55,-192.88C437.1,-180.79 456.89,-167.15 474.19,-155.22\"/>\n",
       "<polygon fill=\"black\" stroke=\"black\" points=\"476.22,-158.08 482.47,-149.52 472.25,-152.31 476.22,-158.08\"/>\n",
       "</g>\n",
       "<!-- 10 -->\n",
       "<g id=\"node11\" class=\"node\">\n",
       "<title>10</title>\n",
       "<polygon fill=\"none\" stroke=\"black\" points=\"417.5,-53 307.5,-53 307.5,0 417.5,0 417.5,-53\"/>\n",
       "<text text-anchor=\"middle\" x=\"362.5\" y=\"-37.8\" font-family=\"Helvetica,sans-Serif\" font-size=\"14.00\">entropy = 0.0</text>\n",
       "<text text-anchor=\"middle\" x=\"362.5\" y=\"-22.8\" font-family=\"Helvetica,sans-Serif\" font-size=\"14.00\">samples = 3</text>\n",
       "<text text-anchor=\"middle\" x=\"362.5\" y=\"-7.8\" font-family=\"Helvetica,sans-Serif\" font-size=\"14.00\">value = [0, 0, 3]</text>\n",
       "</g>\n",
       "<!-- 9&#45;&gt;10 -->\n",
       "<g id=\"edge10\" class=\"edge\">\n",
       "<title>9&#45;&gt;10</title>\n",
       "<path fill=\"none\" stroke=\"black\" d=\"M368.35,-88.95C367.56,-80.62 366.7,-71.65 365.9,-63.2\"/>\n",
       "<polygon fill=\"black\" stroke=\"black\" points=\"369.38,-62.86 364.95,-53.24 362.42,-63.52 369.38,-62.86\"/>\n",
       "</g>\n",
       "<!-- 11 -->\n",
       "<g id=\"node12\" class=\"node\">\n",
       "<title>11</title>\n",
       "<polygon fill=\"none\" stroke=\"black\" points=\"545.5,-53 435.5,-53 435.5,0 545.5,0 545.5,-53\"/>\n",
       "<text text-anchor=\"middle\" x=\"490.5\" y=\"-37.8\" font-family=\"Helvetica,sans-Serif\" font-size=\"14.00\">entropy = 0.0</text>\n",
       "<text text-anchor=\"middle\" x=\"490.5\" y=\"-22.8\" font-family=\"Helvetica,sans-Serif\" font-size=\"14.00\">samples = 1</text>\n",
       "<text text-anchor=\"middle\" x=\"490.5\" y=\"-7.8\" font-family=\"Helvetica,sans-Serif\" font-size=\"14.00\">value = [0, 1, 0]</text>\n",
       "</g>\n",
       "<!-- 9&#45;&gt;11 -->\n",
       "<g id=\"edge11\" class=\"edge\">\n",
       "<title>9&#45;&gt;11</title>\n",
       "<path fill=\"none\" stroke=\"black\" d=\"M413.12,-88.95C425.1,-79.43 438.15,-69.07 450.06,-59.62\"/>\n",
       "<polygon fill=\"black\" stroke=\"black\" points=\"452.44,-62.2 458.09,-53.24 448.08,-56.71 452.44,-62.2\"/>\n",
       "</g>\n",
       "</g>\n",
       "</svg>\n"
      ],
      "text/plain": [
       "<graphviz.sources.Source at 0x17207fd9df0>"
      ]
     },
     "execution_count": 23,
     "metadata": {},
     "output_type": "execute_result"
    }
   ],
   "source": [
    "graph=export_graphviz(dt_fit,out_file=None,feature_names=x.columns)\n",
    "graphviz.Source(graph)"
   ]
  },
  {
   "cell_type": "code",
   "execution_count": 36,
   "id": "71a57f9a",
   "metadata": {},
   "outputs": [],
   "source": [
    "#Decision Tree Regressor"
   ]
  },
  {
   "cell_type": "code",
   "execution_count": 39,
   "id": "b5ffae4a",
   "metadata": {},
   "outputs": [],
   "source": [
    "from sklearn.tree import DecisionTreeRegressor"
   ]
  },
  {
   "cell_type": "code",
   "execution_count": 45,
   "id": "957dcd8e",
   "metadata": {},
   "outputs": [
    {
     "data": {
      "text/plain": [
       "array([2., 1., 0., 2., 0., 2., 0., 1., 1., 1., 2., 1., 1., 1., 1., 0., 1.,\n",
       "       1., 0., 0., 2., 1., 0., 0., 2., 0., 0., 1., 1., 0., 2., 1., 0., 2.,\n",
       "       2., 1., 0., 2., 1., 1., 2., 0., 2., 0., 0.])"
      ]
     },
     "execution_count": 45,
     "metadata": {},
     "output_type": "execute_result"
    }
   ],
   "source": [
    "drt=DecisionTreeRegressor()\n",
    "drt_fit=drt.fit(xtrain,ytrain)\n",
    "drt_predict=drt_fit.predict(xtest)\n",
    "drt_predict"
   ]
  },
  {
   "cell_type": "code",
   "execution_count": 46,
   "id": "5c833140",
   "metadata": {},
   "outputs": [
    {
     "data": {
      "text/plain": [
       "0.9621848739495799"
      ]
     },
     "execution_count": 46,
     "metadata": {},
     "output_type": "execute_result"
    }
   ],
   "source": [
    "metrics.r2_score(ytest,drt_predict)"
   ]
  },
  {
   "cell_type": "code",
   "execution_count": 65,
   "id": "1e15d938",
   "metadata": {},
   "outputs": [
    {
     "name": "stdout",
     "output_type": "stream",
     "text": [
      "intercept 1.0476190476190477\n",
      "coefficient [ 0. -0.  0.  0.]\n"
     ]
    }
   ],
   "source": [
    "print('intercept',ls_fit.intercept_)\n",
    "print('coefficient',ls_fit.coef_)"
   ]
  },
  {
   "cell_type": "code",
   "execution_count": 68,
   "id": "76f539f3",
   "metadata": {},
   "outputs": [
    {
     "data": {
      "image/svg+xml": [
       "<?xml version=\"1.0\" encoding=\"UTF-8\" standalone=\"no\"?>\n",
       "<!DOCTYPE svg PUBLIC \"-//W3C//DTD SVG 1.1//EN\"\n",
       " \"http://www.w3.org/Graphics/SVG/1.1/DTD/svg11.dtd\">\n",
       "<!-- Generated by graphviz version 2.50.0 (0)\n",
       " -->\n",
       "<!-- Title: Tree Pages: 1 -->\n",
       "<svg width=\"637pt\" height=\"477pt\"\n",
       " viewBox=\"0.00 0.00 637.00 477.00\" xmlns=\"http://www.w3.org/2000/svg\" xmlns:xlink=\"http://www.w3.org/1999/xlink\">\n",
       "<g id=\"graph0\" class=\"graph\" transform=\"scale(1 1) rotate(0) translate(4 473)\">\n",
       "<title>Tree</title>\n",
       "<polygon fill=\"white\" stroke=\"transparent\" points=\"-4,4 -4,-473 633,-473 633,4 -4,4\"/>\n",
       "<!-- 0 -->\n",
       "<g id=\"node1\" class=\"node\">\n",
       "<title>0</title>\n",
       "<polygon fill=\"none\" stroke=\"black\" points=\"309,-469 157,-469 157,-401 309,-401 309,-469\"/>\n",
       "<text text-anchor=\"middle\" x=\"233\" y=\"-453.8\" font-family=\"Helvetica,sans-Serif\" font-size=\"14.00\">petal_length &lt;= &#45;0.823</text>\n",
       "<text text-anchor=\"middle\" x=\"233\" y=\"-438.8\" font-family=\"Helvetica,sans-Serif\" font-size=\"14.00\">squared_error = 0.693</text>\n",
       "<text text-anchor=\"middle\" x=\"233\" y=\"-423.8\" font-family=\"Helvetica,sans-Serif\" font-size=\"14.00\">samples = 105</text>\n",
       "<text text-anchor=\"middle\" x=\"233\" y=\"-408.8\" font-family=\"Helvetica,sans-Serif\" font-size=\"14.00\">value = 1.048</text>\n",
       "</g>\n",
       "<!-- 1 -->\n",
       "<g id=\"node2\" class=\"node\">\n",
       "<title>1</title>\n",
       "<polygon fill=\"none\" stroke=\"black\" points=\"220,-357.5 84,-357.5 84,-304.5 220,-304.5 220,-357.5\"/>\n",
       "<text text-anchor=\"middle\" x=\"152\" y=\"-342.3\" font-family=\"Helvetica,sans-Serif\" font-size=\"14.00\">squared_error = 0.0</text>\n",
       "<text text-anchor=\"middle\" x=\"152\" y=\"-327.3\" font-family=\"Helvetica,sans-Serif\" font-size=\"14.00\">samples = 34</text>\n",
       "<text text-anchor=\"middle\" x=\"152\" y=\"-312.3\" font-family=\"Helvetica,sans-Serif\" font-size=\"14.00\">value = 0.0</text>\n",
       "</g>\n",
       "<!-- 0&#45;&gt;1 -->\n",
       "<g id=\"edge1\" class=\"edge\">\n",
       "<title>0&#45;&gt;1</title>\n",
       "<path fill=\"none\" stroke=\"black\" d=\"M206.7,-400.88C197.71,-389.56 187.64,-376.88 178.62,-365.52\"/>\n",
       "<polygon fill=\"black\" stroke=\"black\" points=\"181.23,-363.17 172.27,-357.52 175.74,-367.53 181.23,-363.17\"/>\n",
       "<text text-anchor=\"middle\" x=\"169.42\" y=\"-378.66\" font-family=\"Helvetica,sans-Serif\" font-size=\"14.00\">True</text>\n",
       "</g>\n",
       "<!-- 2 -->\n",
       "<g id=\"node3\" class=\"node\">\n",
       "<title>2</title>\n",
       "<polygon fill=\"none\" stroke=\"black\" points=\"389.5,-365 238.5,-365 238.5,-297 389.5,-297 389.5,-365\"/>\n",
       "<text text-anchor=\"middle\" x=\"314\" y=\"-349.8\" font-family=\"Helvetica,sans-Serif\" font-size=\"14.00\">petal_length &lt;= 0.624</text>\n",
       "<text text-anchor=\"middle\" x=\"314\" y=\"-334.8\" font-family=\"Helvetica,sans-Serif\" font-size=\"14.00\">squared_error = 0.248</text>\n",
       "<text text-anchor=\"middle\" x=\"314\" y=\"-319.8\" font-family=\"Helvetica,sans-Serif\" font-size=\"14.00\">samples = 71</text>\n",
       "<text text-anchor=\"middle\" x=\"314\" y=\"-304.8\" font-family=\"Helvetica,sans-Serif\" font-size=\"14.00\">value = 1.549</text>\n",
       "</g>\n",
       "<!-- 0&#45;&gt;2 -->\n",
       "<g id=\"edge2\" class=\"edge\">\n",
       "<title>0&#45;&gt;2</title>\n",
       "<path fill=\"none\" stroke=\"black\" d=\"M259.3,-400.88C266.3,-392.07 273.95,-382.43 281.25,-373.24\"/>\n",
       "<polygon fill=\"black\" stroke=\"black\" points=\"284.08,-375.31 287.56,-365.3 278.6,-370.95 284.08,-375.31\"/>\n",
       "<text text-anchor=\"middle\" x=\"290.41\" y=\"-386.44\" font-family=\"Helvetica,sans-Serif\" font-size=\"14.00\">False</text>\n",
       "</g>\n",
       "<!-- 3 -->\n",
       "<g id=\"node4\" class=\"node\">\n",
       "<title>3</title>\n",
       "<polygon fill=\"none\" stroke=\"black\" points=\"301.5,-261 158.5,-261 158.5,-193 301.5,-193 301.5,-261\"/>\n",
       "<text text-anchor=\"middle\" x=\"230\" y=\"-245.8\" font-family=\"Helvetica,sans-Serif\" font-size=\"14.00\">petal_width &lt;= 0.544</text>\n",
       "<text text-anchor=\"middle\" x=\"230\" y=\"-230.8\" font-family=\"Helvetica,sans-Serif\" font-size=\"14.00\">squared_error = 0.08</text>\n",
       "<text text-anchor=\"middle\" x=\"230\" y=\"-215.8\" font-family=\"Helvetica,sans-Serif\" font-size=\"14.00\">samples = 34</text>\n",
       "<text text-anchor=\"middle\" x=\"230\" y=\"-200.8\" font-family=\"Helvetica,sans-Serif\" font-size=\"14.00\">value = 1.088</text>\n",
       "</g>\n",
       "<!-- 2&#45;&gt;3 -->\n",
       "<g id=\"edge3\" class=\"edge\">\n",
       "<title>2&#45;&gt;3</title>\n",
       "<path fill=\"none\" stroke=\"black\" d=\"M286.73,-296.88C279.47,-288.07 271.53,-278.43 263.96,-269.24\"/>\n",
       "<polygon fill=\"black\" stroke=\"black\" points=\"266.48,-266.79 257.42,-261.3 261.08,-271.24 266.48,-266.79\"/>\n",
       "</g>\n",
       "<!-- 8 -->\n",
       "<g id=\"node9\" class=\"node\">\n",
       "<title>8</title>\n",
       "<polygon fill=\"none\" stroke=\"black\" points=\"474.5,-261 323.5,-261 323.5,-193 474.5,-193 474.5,-261\"/>\n",
       "<text text-anchor=\"middle\" x=\"399\" y=\"-245.8\" font-family=\"Helvetica,sans-Serif\" font-size=\"14.00\">petal_length &lt;= 0.68</text>\n",
       "<text text-anchor=\"middle\" x=\"399\" y=\"-230.8\" font-family=\"Helvetica,sans-Serif\" font-size=\"14.00\">squared_error = 0.026</text>\n",
       "<text text-anchor=\"middle\" x=\"399\" y=\"-215.8\" font-family=\"Helvetica,sans-Serif\" font-size=\"14.00\">samples = 37</text>\n",
       "<text text-anchor=\"middle\" x=\"399\" y=\"-200.8\" font-family=\"Helvetica,sans-Serif\" font-size=\"14.00\">value = 1.973</text>\n",
       "</g>\n",
       "<!-- 2&#45;&gt;8 -->\n",
       "<g id=\"edge8\" class=\"edge\">\n",
       "<title>2&#45;&gt;8</title>\n",
       "<path fill=\"none\" stroke=\"black\" d=\"M341.6,-296.88C348.95,-288.07 356.97,-278.43 364.64,-269.24\"/>\n",
       "<polygon fill=\"black\" stroke=\"black\" points=\"367.54,-271.22 371.25,-261.3 362.16,-266.74 367.54,-271.22\"/>\n",
       "</g>\n",
       "<!-- 4 -->\n",
       "<g id=\"node5\" class=\"node\">\n",
       "<title>4</title>\n",
       "<polygon fill=\"none\" stroke=\"black\" points=\"136,-149.5 0,-149.5 0,-96.5 136,-96.5 136,-149.5\"/>\n",
       "<text text-anchor=\"middle\" x=\"68\" y=\"-134.3\" font-family=\"Helvetica,sans-Serif\" font-size=\"14.00\">squared_error = 0.0</text>\n",
       "<text text-anchor=\"middle\" x=\"68\" y=\"-119.3\" font-family=\"Helvetica,sans-Serif\" font-size=\"14.00\">samples = 30</text>\n",
       "<text text-anchor=\"middle\" x=\"68\" y=\"-104.3\" font-family=\"Helvetica,sans-Serif\" font-size=\"14.00\">value = 1.0</text>\n",
       "</g>\n",
       "<!-- 3&#45;&gt;4 -->\n",
       "<g id=\"edge4\" class=\"edge\">\n",
       "<title>3&#45;&gt;4</title>\n",
       "<path fill=\"none\" stroke=\"black\" d=\"M177.4,-192.88C158.01,-180.68 136.14,-166.9 117.07,-154.9\"/>\n",
       "<polygon fill=\"black\" stroke=\"black\" points=\"118.86,-151.89 108.53,-149.52 115.13,-157.81 118.86,-151.89\"/>\n",
       "</g>\n",
       "<!-- 5 -->\n",
       "<g id=\"node6\" class=\"node\">\n",
       "<title>5</title>\n",
       "<polygon fill=\"none\" stroke=\"black\" points=\"305.5,-157 154.5,-157 154.5,-89 305.5,-89 305.5,-157\"/>\n",
       "<text text-anchor=\"middle\" x=\"230\" y=\"-141.8\" font-family=\"Helvetica,sans-Serif\" font-size=\"14.00\">sepal_width &lt;= 0.126</text>\n",
       "<text text-anchor=\"middle\" x=\"230\" y=\"-126.8\" font-family=\"Helvetica,sans-Serif\" font-size=\"14.00\">squared_error = 0.188</text>\n",
       "<text text-anchor=\"middle\" x=\"230\" y=\"-111.8\" font-family=\"Helvetica,sans-Serif\" font-size=\"14.00\">samples = 4</text>\n",
       "<text text-anchor=\"middle\" x=\"230\" y=\"-96.8\" font-family=\"Helvetica,sans-Serif\" font-size=\"14.00\">value = 1.75</text>\n",
       "</g>\n",
       "<!-- 3&#45;&gt;5 -->\n",
       "<g id=\"edge5\" class=\"edge\">\n",
       "<title>3&#45;&gt;5</title>\n",
       "<path fill=\"none\" stroke=\"black\" d=\"M230,-192.88C230,-184.78 230,-175.98 230,-167.47\"/>\n",
       "<polygon fill=\"black\" stroke=\"black\" points=\"233.5,-167.3 230,-157.3 226.5,-167.3 233.5,-167.3\"/>\n",
       "</g>\n",
       "<!-- 6 -->\n",
       "<g id=\"node7\" class=\"node\">\n",
       "<title>6</title>\n",
       "<polygon fill=\"none\" stroke=\"black\" points=\"148,-53 12,-53 12,0 148,0 148,-53\"/>\n",
       "<text text-anchor=\"middle\" x=\"80\" y=\"-37.8\" font-family=\"Helvetica,sans-Serif\" font-size=\"14.00\">squared_error = 0.0</text>\n",
       "<text text-anchor=\"middle\" x=\"80\" y=\"-22.8\" font-family=\"Helvetica,sans-Serif\" font-size=\"14.00\">samples = 3</text>\n",
       "<text text-anchor=\"middle\" x=\"80\" y=\"-7.8\" font-family=\"Helvetica,sans-Serif\" font-size=\"14.00\">value = 2.0</text>\n",
       "</g>\n",
       "<!-- 5&#45;&gt;6 -->\n",
       "<g id=\"edge6\" class=\"edge\">\n",
       "<title>5&#45;&gt;6</title>\n",
       "<path fill=\"none\" stroke=\"black\" d=\"M177.54,-88.95C162,-79.16 145.04,-68.48 129.68,-58.8\"/>\n",
       "<polygon fill=\"black\" stroke=\"black\" points=\"131.18,-55.61 120.85,-53.24 127.45,-61.53 131.18,-55.61\"/>\n",
       "</g>\n",
       "<!-- 7 -->\n",
       "<g id=\"node8\" class=\"node\">\n",
       "<title>7</title>\n",
       "<polygon fill=\"none\" stroke=\"black\" points=\"302,-53 166,-53 166,0 302,0 302,-53\"/>\n",
       "<text text-anchor=\"middle\" x=\"234\" y=\"-37.8\" font-family=\"Helvetica,sans-Serif\" font-size=\"14.00\">squared_error = 0.0</text>\n",
       "<text text-anchor=\"middle\" x=\"234\" y=\"-22.8\" font-family=\"Helvetica,sans-Serif\" font-size=\"14.00\">samples = 1</text>\n",
       "<text text-anchor=\"middle\" x=\"234\" y=\"-7.8\" font-family=\"Helvetica,sans-Serif\" font-size=\"14.00\">value = 1.0</text>\n",
       "</g>\n",
       "<!-- 5&#45;&gt;7 -->\n",
       "<g id=\"edge7\" class=\"edge\">\n",
       "<title>5&#45;&gt;7</title>\n",
       "<path fill=\"none\" stroke=\"black\" d=\"M231.4,-88.95C231.75,-80.72 232.12,-71.85 232.48,-63.48\"/>\n",
       "<polygon fill=\"black\" stroke=\"black\" points=\"235.98,-63.38 232.91,-53.24 228.99,-63.08 235.98,-63.38\"/>\n",
       "</g>\n",
       "<!-- 9 -->\n",
       "<g id=\"node10\" class=\"node\">\n",
       "<title>9</title>\n",
       "<polygon fill=\"none\" stroke=\"black\" points=\"474.5,-157 323.5,-157 323.5,-89 474.5,-89 474.5,-157\"/>\n",
       "<text text-anchor=\"middle\" x=\"399\" y=\"-141.8\" font-family=\"Helvetica,sans-Serif\" font-size=\"14.00\">sepal_length &lt;= 0.695</text>\n",
       "<text text-anchor=\"middle\" x=\"399\" y=\"-126.8\" font-family=\"Helvetica,sans-Serif\" font-size=\"14.00\">squared_error = 0.188</text>\n",
       "<text text-anchor=\"middle\" x=\"399\" y=\"-111.8\" font-family=\"Helvetica,sans-Serif\" font-size=\"14.00\">samples = 4</text>\n",
       "<text text-anchor=\"middle\" x=\"399\" y=\"-96.8\" font-family=\"Helvetica,sans-Serif\" font-size=\"14.00\">value = 1.75</text>\n",
       "</g>\n",
       "<!-- 8&#45;&gt;9 -->\n",
       "<g id=\"edge9\" class=\"edge\">\n",
       "<title>8&#45;&gt;9</title>\n",
       "<path fill=\"none\" stroke=\"black\" d=\"M399,-192.88C399,-184.78 399,-175.98 399,-167.47\"/>\n",
       "<polygon fill=\"black\" stroke=\"black\" points=\"402.5,-167.3 399,-157.3 395.5,-167.3 402.5,-167.3\"/>\n",
       "</g>\n",
       "<!-- 12 -->\n",
       "<g id=\"node13\" class=\"node\">\n",
       "<title>12</title>\n",
       "<polygon fill=\"none\" stroke=\"black\" points=\"629,-149.5 493,-149.5 493,-96.5 629,-96.5 629,-149.5\"/>\n",
       "<text text-anchor=\"middle\" x=\"561\" y=\"-134.3\" font-family=\"Helvetica,sans-Serif\" font-size=\"14.00\">squared_error = 0.0</text>\n",
       "<text text-anchor=\"middle\" x=\"561\" y=\"-119.3\" font-family=\"Helvetica,sans-Serif\" font-size=\"14.00\">samples = 33</text>\n",
       "<text text-anchor=\"middle\" x=\"561\" y=\"-104.3\" font-family=\"Helvetica,sans-Serif\" font-size=\"14.00\">value = 2.0</text>\n",
       "</g>\n",
       "<!-- 8&#45;&gt;12 -->\n",
       "<g id=\"edge12\" class=\"edge\">\n",
       "<title>8&#45;&gt;12</title>\n",
       "<path fill=\"none\" stroke=\"black\" d=\"M451.6,-192.88C470.99,-180.68 492.86,-166.9 511.93,-154.9\"/>\n",
       "<polygon fill=\"black\" stroke=\"black\" points=\"513.87,-157.81 520.47,-149.52 510.14,-151.89 513.87,-157.81\"/>\n",
       "</g>\n",
       "<!-- 10 -->\n",
       "<g id=\"node11\" class=\"node\">\n",
       "<title>10</title>\n",
       "<polygon fill=\"none\" stroke=\"black\" points=\"463,-53 327,-53 327,0 463,0 463,-53\"/>\n",
       "<text text-anchor=\"middle\" x=\"395\" y=\"-37.8\" font-family=\"Helvetica,sans-Serif\" font-size=\"14.00\">squared_error = 0.0</text>\n",
       "<text text-anchor=\"middle\" x=\"395\" y=\"-22.8\" font-family=\"Helvetica,sans-Serif\" font-size=\"14.00\">samples = 3</text>\n",
       "<text text-anchor=\"middle\" x=\"395\" y=\"-7.8\" font-family=\"Helvetica,sans-Serif\" font-size=\"14.00\">value = 2.0</text>\n",
       "</g>\n",
       "<!-- 9&#45;&gt;10 -->\n",
       "<g id=\"edge10\" class=\"edge\">\n",
       "<title>9&#45;&gt;10</title>\n",
       "<path fill=\"none\" stroke=\"black\" d=\"M397.6,-88.95C397.25,-80.72 396.88,-71.85 396.52,-63.48\"/>\n",
       "<polygon fill=\"black\" stroke=\"black\" points=\"400.01,-63.08 396.09,-53.24 393.02,-63.38 400.01,-63.08\"/>\n",
       "</g>\n",
       "<!-- 11 -->\n",
       "<g id=\"node12\" class=\"node\">\n",
       "<title>11</title>\n",
       "<polygon fill=\"none\" stroke=\"black\" points=\"617,-53 481,-53 481,0 617,0 617,-53\"/>\n",
       "<text text-anchor=\"middle\" x=\"549\" y=\"-37.8\" font-family=\"Helvetica,sans-Serif\" font-size=\"14.00\">squared_error = 0.0</text>\n",
       "<text text-anchor=\"middle\" x=\"549\" y=\"-22.8\" font-family=\"Helvetica,sans-Serif\" font-size=\"14.00\">samples = 1</text>\n",
       "<text text-anchor=\"middle\" x=\"549\" y=\"-7.8\" font-family=\"Helvetica,sans-Serif\" font-size=\"14.00\">value = 1.0</text>\n",
       "</g>\n",
       "<!-- 9&#45;&gt;11 -->\n",
       "<g id=\"edge11\" class=\"edge\">\n",
       "<title>9&#45;&gt;11</title>\n",
       "<path fill=\"none\" stroke=\"black\" d=\"M451.46,-88.95C467,-79.16 483.96,-68.48 499.32,-58.8\"/>\n",
       "<polygon fill=\"black\" stroke=\"black\" points=\"501.55,-61.53 508.15,-53.24 497.82,-55.61 501.55,-61.53\"/>\n",
       "</g>\n",
       "</g>\n",
       "</svg>\n"
      ],
      "text/plain": [
       "<graphviz.sources.Source at 0x17208be1310>"
      ]
     },
     "execution_count": 68,
     "metadata": {},
     "output_type": "execute_result"
    }
   ],
   "source": [
    "tree=export_graphviz(drt_fit,out_file=None,feature_names=x.columns)\n",
    "graphviz.Source(tree)"
   ]
  },
  {
   "cell_type": "code",
   "execution_count": 95,
   "id": "378c3fac",
   "metadata": {},
   "outputs": [],
   "source": [
    "#Extra random tree"
   ]
  },
  {
   "cell_type": "code",
   "execution_count": 97,
   "id": "1881b0e2",
   "metadata": {},
   "outputs": [],
   "source": [
    "from sklearn.ensemble import ExtraTreesClassifier"
   ]
  },
  {
   "cell_type": "code",
   "execution_count": 100,
   "id": "ed151078",
   "metadata": {},
   "outputs": [
    {
     "data": {
      "text/plain": [
       "array([2, 1, 0, 2, 0, 2, 0, 1, 1, 1, 2, 1, 1, 1, 1, 0, 1, 1, 0, 0, 2, 1,\n",
       "       0, 0, 2, 0, 0, 1, 1, 0, 2, 1, 0, 2, 2, 1, 0, 2, 1, 1, 2, 0, 2, 0,\n",
       "       0])"
      ]
     },
     "execution_count": 100,
     "metadata": {},
     "output_type": "execute_result"
    }
   ],
   "source": [
    "etc=ExtraTreesClassifier(n_estimators=20)\n",
    "etc_fit=etc.fit(xtrain,ytrain)\n",
    "etc_predict=etc_fit.predict(xtest)\n",
    "etc_predict"
   ]
  },
  {
   "cell_type": "code",
   "execution_count": 101,
   "id": "f34bdbea",
   "metadata": {},
   "outputs": [
    {
     "name": "stdout",
     "output_type": "stream",
     "text": [
      "f1_score: [1.         0.97142857 0.95652174]\n",
      "accuracy_score: 0.9777777777777777\n",
      "confusion_matrix: [[16  0  0]\n",
      " [ 0 17  1]\n",
      " [ 0  0 11]]\n"
     ]
    }
   ],
   "source": [
    "print('f1_score:',metrics.f1_score(ytest,etc_predict,average=None))\n",
    "print('accuracy_score:',metrics.accuracy_score(ytest,etc_predict))\n",
    "print('confusion_matrix:',metrics.confusion_matrix(ytest,etc_predict))"
   ]
  },
  {
   "cell_type": "code",
   "execution_count": 43,
   "id": "bbc5e914",
   "metadata": {},
   "outputs": [],
   "source": [
    "#Random Forest classification"
   ]
  },
  {
   "cell_type": "code",
   "execution_count": 30,
   "id": "eeb74510",
   "metadata": {},
   "outputs": [],
   "source": [
    "from sklearn.ensemble import RandomForestClassifier"
   ]
  },
  {
   "cell_type": "code",
   "execution_count": 31,
   "id": "016e8c7d",
   "metadata": {},
   "outputs": [
    {
     "data": {
      "text/plain": [
       "array([2, 1, 0, 2, 0, 2, 0, 1, 1, 1, 2, 1, 1, 1, 1, 0, 1, 1, 0, 0, 2, 1,\n",
       "       0, 0, 2, 0, 0, 1, 1, 0, 2, 1, 0, 2, 2, 1, 0, 2, 1, 1, 2, 0, 2, 0,\n",
       "       0])"
      ]
     },
     "execution_count": 31,
     "metadata": {},
     "output_type": "execute_result"
    }
   ],
   "source": [
    "rfc=RandomForestClassifier(n_estimators=20)\n",
    "rfc_fit=rfc.fit(xtrain,ytrain)\n",
    "rfc_predict=rfc_fit.predict(xtest)\n",
    "rfc_predict"
   ]
  },
  {
   "cell_type": "code",
   "execution_count": 32,
   "id": "012a03a4",
   "metadata": {},
   "outputs": [
    {
     "name": "stdout",
     "output_type": "stream",
     "text": [
      "f1_score: [1.         0.97142857 0.95652174]\n",
      "accuracy_score: 0.9777777777777777\n",
      "confusion_matrix: [[16  0  0]\n",
      " [ 0 17  1]\n",
      " [ 0  0 11]]\n"
     ]
    }
   ],
   "source": [
    "print('f1_score:',metrics.f1_score(ytest,rfc_predict,average=None))\n",
    "print('accuracy_score:',metrics.accuracy_score(ytest,rfc_predict))\n",
    "print('confusion_matrix:',metrics.confusion_matrix(ytest,rfc_predict))"
   ]
  },
  {
   "cell_type": "code",
   "execution_count": 76,
   "id": "180f18fb",
   "metadata": {},
   "outputs": [],
   "source": [
    "#Random Forest Regressor"
   ]
  },
  {
   "cell_type": "code",
   "execution_count": 77,
   "id": "e19731d5",
   "metadata": {},
   "outputs": [],
   "source": [
    "from sklearn.ensemble import RandomForestRegressor"
   ]
  },
  {
   "cell_type": "code",
   "execution_count": 78,
   "id": "64f84e4d",
   "metadata": {},
   "outputs": [
    {
     "data": {
      "text/plain": [
       "array([2.  , 1.02, 0.  , 2.  , 0.  , 2.  , 0.  , 1.  , 1.05, 1.  , 1.84,\n",
       "       1.  , 1.01, 1.01, 1.01, 0.  , 1.01, 1.  , 0.  , 0.  , 1.86, 1.01,\n",
       "       0.  , 0.  , 1.81, 0.  , 0.  , 1.  , 1.04, 0.  , 2.  , 1.02, 0.  ,\n",
       "       1.81, 2.  , 1.  , 0.  , 1.91, 1.01, 1.  , 2.  , 0.  , 2.  , 0.  ,\n",
       "       0.  ])"
      ]
     },
     "execution_count": 78,
     "metadata": {},
     "output_type": "execute_result"
    }
   ],
   "source": [
    "rfr=RandomForestRegressor()\n",
    "rfr_fit=rfr.fit(xtrain,ytrain)\n",
    "rfr_predict=rfr_fit.predict(xtest)\n",
    "rfr_predict"
   ]
  },
  {
   "cell_type": "code",
   "execution_count": 79,
   "id": "6de1944a",
   "metadata": {},
   "outputs": [
    {
     "data": {
      "text/plain": [
       "0.9640378151260505"
      ]
     },
     "execution_count": 79,
     "metadata": {},
     "output_type": "execute_result"
    }
   ],
   "source": [
    "metrics.r2_score(ytest,rfr_predict)"
   ]
  },
  {
   "cell_type": "code",
   "execution_count": 47,
   "id": "3a60d879",
   "metadata": {},
   "outputs": [],
   "source": [
    "#Lasso Regression"
   ]
  },
  {
   "cell_type": "code",
   "execution_count": 49,
   "id": "0cfd1e53",
   "metadata": {},
   "outputs": [],
   "source": [
    "from sklearn.linear_model import Lasso"
   ]
  },
  {
   "cell_type": "code",
   "execution_count": 52,
   "id": "7561ab41",
   "metadata": {},
   "outputs": [
    {
     "data": {
      "text/plain": [
       "array([1.04761905, 1.04761905, 1.04761905, 1.04761905, 1.04761905,\n",
       "       1.04761905, 1.04761905, 1.04761905, 1.04761905, 1.04761905,\n",
       "       1.04761905, 1.04761905, 1.04761905, 1.04761905, 1.04761905,\n",
       "       1.04761905, 1.04761905, 1.04761905, 1.04761905, 1.04761905,\n",
       "       1.04761905, 1.04761905, 1.04761905, 1.04761905, 1.04761905,\n",
       "       1.04761905, 1.04761905, 1.04761905, 1.04761905, 1.04761905,\n",
       "       1.04761905, 1.04761905, 1.04761905, 1.04761905, 1.04761905,\n",
       "       1.04761905, 1.04761905, 1.04761905, 1.04761905, 1.04761905,\n",
       "       1.04761905, 1.04761905, 1.04761905, 1.04761905, 1.04761905])"
      ]
     },
     "execution_count": 52,
     "metadata": {},
     "output_type": "execute_result"
    }
   ],
   "source": [
    "ls=Lasso(alpha=1.0)\n",
    "ls_fit=ls.fit(xtrain,ytrain)\n",
    "ls_predict=ls_fit.predict(xtest)\n",
    "ls_predict"
   ]
  },
  {
   "cell_type": "code",
   "execution_count": 62,
   "id": "9ea517ca",
   "metadata": {},
   "outputs": [
    {
     "data": {
      "text/plain": [
       "-0.04287429257417252"
      ]
     },
     "execution_count": 62,
     "metadata": {},
     "output_type": "execute_result"
    }
   ],
   "source": [
    "metrics.r2_score(ytest,ls_predict)"
   ]
  },
  {
   "cell_type": "code",
   "execution_count": 63,
   "id": "b70718b5",
   "metadata": {},
   "outputs": [
    {
     "name": "stdout",
     "output_type": "stream",
     "text": [
      "intercept 1.0476190476190477\n",
      "coefficient [ 0. -0.  0.  0.]\n"
     ]
    }
   ],
   "source": [
    "print('intercept',ls_fit.intercept_)\n",
    "print('coefficient',ls_fit.coef_)"
   ]
  },
  {
   "cell_type": "code",
   "execution_count": 69,
   "id": "236377fd",
   "metadata": {},
   "outputs": [],
   "source": [
    "#Ridge Regression"
   ]
  },
  {
   "cell_type": "code",
   "execution_count": 70,
   "id": "d2dfd612",
   "metadata": {},
   "outputs": [],
   "source": [
    "from sklearn.linear_model import Ridge"
   ]
  },
  {
   "cell_type": "code",
   "execution_count": 71,
   "id": "32d8e513",
   "metadata": {},
   "outputs": [
    {
     "data": {
      "text/plain": [
       "array([ 2.06708024,  0.98765317, -0.15488655,  1.81834393, -0.02756584,\n",
       "        2.25673849, -0.02283612,  1.31740439,  1.28658319,  1.11960622,\n",
       "        1.57704573,  1.30038409,  1.23105673,  1.33329596,  1.34285879,\n",
       "       -0.05815956,  1.36506377,  1.24218189,  0.05205881, -0.03422545,\n",
       "        1.80898055,  1.40885799,  0.09406322,  0.04778405,  1.59415342,\n",
       "       -0.11039456,  0.1534395 ,  1.17497191,  0.93500856,  0.11373791,\n",
       "        1.72394375,  1.43336579, -0.057295  ,  1.62024491,  1.99793501,\n",
       "        1.26934406, -0.02715623,  1.5797001 ,  1.29925535,  1.10829893,\n",
       "        1.85568466, -0.02892205,  1.85811156,  0.22553997, -0.09224552])"
      ]
     },
     "execution_count": 71,
     "metadata": {},
     "output_type": "execute_result"
    }
   ],
   "source": [
    "rg=Ridge(alpha=1.0)\n",
    "rg_fit=rg.fit(xtrain,ytrain)\n",
    "rg_predict=rg_fit.predict(xtest)\n",
    "rg_predict"
   ]
  },
  {
   "cell_type": "code",
   "execution_count": 74,
   "id": "887c248f",
   "metadata": {},
   "outputs": [
    {
     "data": {
      "text/plain": [
       "0.903092703879876"
      ]
     },
     "execution_count": 74,
     "metadata": {},
     "output_type": "execute_result"
    }
   ],
   "source": [
    "metrics.r2_score(ytest,rg_predict)"
   ]
  },
  {
   "cell_type": "code",
   "execution_count": 75,
   "id": "c9054576",
   "metadata": {},
   "outputs": [
    {
     "name": "stdout",
     "output_type": "stream",
     "text": [
      "intercept: 1.0476190476190477\n",
      "coefficient: [-0.10693761 -0.02293533  0.43606457  0.45504386]\n"
     ]
    }
   ],
   "source": [
    "print('intercept:',rg_fit.intercept_)\n",
    "print('coefficient:',rg_fit.coef_)"
   ]
  },
  {
   "cell_type": "code",
   "execution_count": 83,
   "id": "aa8e3f50",
   "metadata": {},
   "outputs": [],
   "source": [
    "#SVM"
   ]
  },
  {
   "cell_type": "code",
   "execution_count": 85,
   "id": "7182fdbc",
   "metadata": {},
   "outputs": [],
   "source": [
    "from sklearn.svm import SVC"
   ]
  },
  {
   "cell_type": "code",
   "execution_count": 86,
   "id": "a51d56bc",
   "metadata": {},
   "outputs": [
    {
     "data": {
      "text/plain": [
       "array([2, 1, 0, 2, 0, 2, 0, 1, 1, 1, 2, 1, 1, 1, 1, 0, 1, 1, 0, 0, 2, 1,\n",
       "       0, 0, 2, 0, 0, 1, 1, 0, 2, 1, 0, 2, 2, 1, 0, 2, 1, 1, 2, 0, 2, 0,\n",
       "       0])"
      ]
     },
     "execution_count": 86,
     "metadata": {},
     "output_type": "execute_result"
    }
   ],
   "source": [
    "svc=SVC(kernel='linear')\n",
    "svc_fit=svc.fit(xtrain,ytrain)\n",
    "svc_predict=svc_fit.predict(xtest)\n",
    "svc_predict"
   ]
  },
  {
   "cell_type": "code",
   "execution_count": 92,
   "id": "c7981fc2",
   "metadata": {},
   "outputs": [
    {
     "name": "stdout",
     "output_type": "stream",
     "text": [
      "f1_score [1.         0.97142857 0.95652174]\n",
      "accuracy_score: 0.9777777777777777\n",
      "confusion_matrix: [[16  0  0]\n",
      " [ 0 17  1]\n",
      " [ 0  0 11]]\n"
     ]
    }
   ],
   "source": [
    "print('f1_score',metrics.f1_score(ytest,svc_predict,average=None))\n",
    "print('accuracy_score:',metrics.accuracy_score(ytest,svc_predict))\n",
    "print('confusion_matrix:',metrics.confusion_matrix(ytest,svc_predict))"
   ]
  },
  {
   "cell_type": "code",
   "execution_count": 102,
   "id": "a272c80d",
   "metadata": {},
   "outputs": [],
   "source": [
    "#Gradient Boosting Classifier"
   ]
  },
  {
   "cell_type": "code",
   "execution_count": 103,
   "id": "8b267c4a",
   "metadata": {},
   "outputs": [],
   "source": [
    "from sklearn.ensemble import GradientBoostingClassifier"
   ]
  },
  {
   "cell_type": "code",
   "execution_count": 105,
   "id": "1a276d0c",
   "metadata": {},
   "outputs": [
    {
     "data": {
      "text/plain": [
       "array([2, 1, 0, 2, 0, 2, 0, 1, 1, 1, 2, 1, 1, 1, 1, 0, 1, 1, 0, 0, 2, 1,\n",
       "       0, 0, 2, 0, 0, 1, 1, 0, 2, 1, 0, 2, 2, 1, 0, 2, 1, 1, 2, 0, 2, 0,\n",
       "       0])"
      ]
     },
     "execution_count": 105,
     "metadata": {},
     "output_type": "execute_result"
    }
   ],
   "source": [
    "gbc=GradientBoostingClassifier()\n",
    "gbc_fit=gbc.fit(xtrain,ytrain)\n",
    "gbc_predict=gbc_fit.predict(xtest)\n",
    "gbc_predict"
   ]
  },
  {
   "cell_type": "code",
   "execution_count": 106,
   "id": "23ffbadf",
   "metadata": {},
   "outputs": [
    {
     "name": "stdout",
     "output_type": "stream",
     "text": [
      "f1_score [1.         0.97142857 0.95652174]\n",
      "accuracy_score: 0.9777777777777777\n",
      "confusion_matrix: [[16  0  0]\n",
      " [ 0 17  1]\n",
      " [ 0  0 11]]\n"
     ]
    }
   ],
   "source": [
    "print('f1_score',metrics.f1_score(ytest,gbc_predict,average=None))\n",
    "print('accuracy_score:',metrics.accuracy_score(ytest,gbc_predict))\n",
    "print('confusion_matrix:',metrics.confusion_matrix(ytest,gbc_predict))"
   ]
  },
  {
   "cell_type": "code",
   "execution_count": 108,
   "id": "b3058d02",
   "metadata": {},
   "outputs": [],
   "source": [
    "#Gradient Boosting Regression"
   ]
  },
  {
   "cell_type": "code",
   "execution_count": 111,
   "id": "a9319eec",
   "metadata": {},
   "outputs": [],
   "source": [
    "from sklearn.ensemble import GradientBoostingRegressor"
   ]
  },
  {
   "cell_type": "code",
   "execution_count": 112,
   "id": "7e183462",
   "metadata": {},
   "outputs": [
    {
     "data": {
      "text/plain": [
       "array([ 2.01135659e+00,  1.11808240e+00, -6.00366927e-04,  2.00129026e+00,\n",
       "       -6.00366927e-04,  2.01384021e+00, -6.00366927e-04,  9.63817478e-01,\n",
       "        9.49513150e-01,  1.00329420e+00,  1.88539261e+00,  9.60495405e-01,\n",
       "        1.00835954e+00,  1.09340115e+00,  1.00835954e+00,  2.23756360e-03,\n",
       "        1.23550896e+00,  1.00013609e+00,  3.43005067e-03, -6.00366927e-04,\n",
       "        1.97678871e+00,  9.95540186e-01, -6.00366927e-04,  3.84605430e-03,\n",
       "        1.86392098e+00, -6.00366927e-04, -6.00366927e-04,  1.00259616e+00,\n",
       "        9.86238289e-01, -6.00366927e-04,  2.00569263e+00,  9.95540186e-01,\n",
       "       -6.00366927e-04,  1.81750049e+00,  2.00248018e+00,  9.98013684e-01,\n",
       "       -6.00366927e-04,  2.21507274e+00,  8.82981621e-01,  9.98977823e-01,\n",
       "        1.98713247e+00, -1.77173903e-03,  2.00076711e+00, -6.00366927e-04,\n",
       "       -6.00366927e-04])"
      ]
     },
     "execution_count": 112,
     "metadata": {},
     "output_type": "execute_result"
    }
   ],
   "source": [
    "gbr=GradientBoostingRegressor()\n",
    "gbr_fit=gbr.fit(xtrain,ytrain)\n",
    "gbr_predict=gbr_fit.predict(xtest)\n",
    "gbr_predict"
   ]
  },
  {
   "cell_type": "code",
   "execution_count": 113,
   "id": "dcdead85",
   "metadata": {},
   "outputs": [
    {
     "data": {
      "text/plain": [
       "0.9379794067499129"
      ]
     },
     "execution_count": 113,
     "metadata": {},
     "output_type": "execute_result"
    }
   ],
   "source": [
    "metrics.r2_score(ytest,gbr_predict)"
   ]
  },
  {
   "cell_type": "code",
   "execution_count": 115,
   "id": "27742949",
   "metadata": {},
   "outputs": [],
   "source": [
    "#elastin net regression"
   ]
  },
  {
   "cell_type": "code",
   "execution_count": 118,
   "id": "3cfddd7c",
   "metadata": {},
   "outputs": [],
   "source": [
    "from sklearn.linear_model import ElasticNet"
   ]
  },
  {
   "cell_type": "code",
   "execution_count": 120,
   "id": "eaf0e4bd",
   "metadata": {},
   "outputs": [
    {
     "data": {
      "text/plain": [
       "array([1.31790721, 1.02219894, 0.72656095, 1.29856231, 0.73298582,\n",
       "       1.391805  , 0.73620997, 1.14754259, 1.13789356, 1.07042065,\n",
       "       1.18929257, 1.13469283, 1.09932088, 1.14111771, 1.13146868,\n",
       "       0.71691192, 1.13469283, 1.08004625, 0.74263485, 0.75228388,\n",
       "       1.24076185, 1.13469283, 0.75868533, 0.72656095, 1.20218917,\n",
       "       0.70086144, 0.79083313, 1.08969528, 0.97722481, 0.7715585 ,\n",
       "       1.2471633 , 1.13469283, 0.73298582, 1.20861404, 1.31788379,\n",
       "       1.08006968, 0.76190948, 1.18931599, 1.11541821, 1.05434675,\n",
       "       1.29538501, 0.72013607, 1.30183331, 0.80370631, 0.73298582])"
      ]
     },
     "execution_count": 120,
     "metadata": {},
     "output_type": "execute_result"
    }
   ],
   "source": [
    "en=ElasticNet(alpha=1.0)\n",
    "en_fit=en.fit(xtrain,ytrain)\n",
    "en_predict=en_fit.predict(xtest)\n",
    "en_predict"
   ]
  },
  {
   "cell_type": "code",
   "execution_count": 122,
   "id": "49e0a7e0",
   "metadata": {},
   "outputs": [
    {
     "data": {
      "text/plain": [
       "0.4345675797534788"
      ]
     },
     "execution_count": 122,
     "metadata": {},
     "output_type": "execute_result"
    }
   ],
   "source": [
    "metrics.r2_score(ytest,en_predict)"
   ]
  },
  {
   "cell_type": "code",
   "execution_count": 124,
   "id": "8d7b9b1f",
   "metadata": {},
   "outputs": [],
   "source": [
    "#XGBoost"
   ]
  },
  {
   "cell_type": "code",
   "execution_count": 128,
   "id": "70d516ef",
   "metadata": {},
   "outputs": [],
   "source": [
    "from xgboost import XGBRegressor"
   ]
  },
  {
   "cell_type": "code",
   "execution_count": 130,
   "id": "903a71c5",
   "metadata": {},
   "outputs": [
    {
     "data": {
      "text/plain": [
       "array([1.9994687e+00, 1.0005111e+00, 4.1963169e-05, 1.9999948e+00,\n",
       "       4.1963169e-05, 2.0003233e+00, 4.1963169e-05, 8.3518004e-01,\n",
       "       7.2260618e-01, 1.0104479e+00, 1.7256974e+00, 9.8970747e-01,\n",
       "       1.0102925e+00, 8.9732832e-01, 1.0043033e+00, 4.1963169e-05,\n",
       "       1.3247669e+00, 1.0000658e+00, 1.1614057e-04, 4.1963169e-05,\n",
       "       1.9829525e+00, 1.1830946e+00, 4.1963169e-05, 2.0660914e-04,\n",
       "       1.9593543e+00, 4.1963169e-05, 4.1963169e-05, 9.6715736e-01,\n",
       "       9.9973166e-01, 4.1963169e-05, 1.9998410e+00, 1.1830946e+00,\n",
       "       4.1963169e-05, 1.9317387e+00, 2.0000577e+00, 9.5138234e-01,\n",
       "       4.1963169e-05, 1.9693784e+00, 1.1570969e+00, 1.0000658e+00,\n",
       "       1.9999861e+00, 4.1963169e-05, 2.0000215e+00, 4.1963169e-05,\n",
       "       4.1963169e-05], dtype=float32)"
      ]
     },
     "execution_count": 130,
     "metadata": {},
     "output_type": "execute_result"
    }
   ],
   "source": [
    "xgb=XGBRegressor()\n",
    "xgb_fit=xgb.fit(xtrain,ytrain)\n",
    "xgb_predict=xgb.predict(xtest)\n",
    "xgb_predict"
   ]
  },
  {
   "cell_type": "code",
   "execution_count": 132,
   "id": "f7cef4c1",
   "metadata": {},
   "outputs": [
    {
     "data": {
      "text/plain": [
       "0.949434522786678"
      ]
     },
     "execution_count": 132,
     "metadata": {},
     "output_type": "execute_result"
    }
   ],
   "source": [
    "metrics.r2_score(ytest,xgb_predict)"
   ]
  },
  {
   "cell_type": "code",
   "execution_count": null,
   "id": "eddcb7e5",
   "metadata": {},
   "outputs": [],
   "source": []
  }
 ],
 "metadata": {
  "kernelspec": {
   "display_name": "Python 3 (ipykernel)",
   "language": "python",
   "name": "python3"
  },
  "language_info": {
   "codemirror_mode": {
    "name": "ipython",
    "version": 3
   },
   "file_extension": ".py",
   "mimetype": "text/x-python",
   "name": "python",
   "nbconvert_exporter": "python",
   "pygments_lexer": "ipython3",
   "version": "3.9.12"
  }
 },
 "nbformat": 4,
 "nbformat_minor": 5
}
